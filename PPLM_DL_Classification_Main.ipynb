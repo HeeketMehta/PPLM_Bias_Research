{
  "cells": [
    {
      "cell_type": "markdown",
      "metadata": {
        "id": "uFmN0zIBXAuQ"
      },
      "source": [
        "# Setup"
      ]
    },
    {
      "cell_type": "code",
      "execution_count": null,
      "metadata": {
        "id": "dBt67HEc9n7o"
      },
      "outputs": [],
      "source": []
    },
    {
      "cell_type": "code",
      "execution_count": 1,
      "metadata": {
        "colab": {
          "base_uri": "https://localhost:8080/"
        },
        "id": "W5UCitCoVLZC",
        "outputId": "92d56cf7-e8d1-4f9e-a703-05380d7eba7d"
      },
      "outputs": [
        {
          "output_type": "stream",
          "name": "stdout",
          "text": [
            "Cloning into 'PPLM'...\n",
            "remote: Enumerating objects: 276, done.\u001b[K\n",
            "remote: Counting objects: 100% (76/76), done.\u001b[K\n",
            "remote: Compressing objects: 100% (12/12), done.\u001b[K\n",
            "remote: Total 276 (delta 70), reused 64 (delta 64), pack-reused 200\u001b[K\n",
            "Receiving objects: 100% (276/276), 2.43 MiB | 29.97 MiB/s, done.\n",
            "Resolving deltas: 100% (115/115), done.\n",
            "Mounted at /content/drive\n"
          ]
        }
      ],
      "source": [
        "# !git clone https://github.com/uber-research/PPLM.git\n",
        "from google.colab import drive\n",
        "drive.mount('/content/drive')"
      ]
    },
    {
      "cell_type": "code",
      "execution_count": 2,
      "metadata": {
        "colab": {
          "base_uri": "https://localhost:8080/"
        },
        "id": "XfOfoqif2cKT",
        "outputId": "7ceed64e-3d61-4a5c-dd84-7c09f9500720"
      },
      "outputs": [
        {
          "output_type": "stream",
          "name": "stdout",
          "text": [
            "drive  PPLM  sample_data\n"
          ]
        }
      ],
      "source": [
        "!ls"
      ]
    },
    {
      "cell_type": "code",
      "execution_count": 3,
      "metadata": {
        "id": "CU17OXfd1ygz",
        "colab": {
          "base_uri": "https://localhost:8080/"
        },
        "outputId": "cdc0b63f-fb4d-4986-aadd-2c935cf3d01b"
      },
      "outputs": [
        {
          "output_type": "stream",
          "name": "stdout",
          "text": [
            "Drive already mounted at /content/drive; to attempt to forcibly remount, call drive.mount(\"/content/drive\", force_remount=True).\n"
          ]
        }
      ],
      "source": [
        "from google.colab import drive\n",
        "drive.mount('/content/drive')"
      ]
    },
    {
      "cell_type": "code",
      "execution_count": 4,
      "metadata": {
        "id": "SMxM3cm1X2Pj"
      },
      "outputs": [],
      "source": [
        "import os\n",
        "os.chdir(\"/content/PPLM\")"
      ]
    },
    {
      "cell_type": "code",
      "execution_count": 5,
      "metadata": {
        "id": "dQ9z0QkTWt1V",
        "colab": {
          "base_uri": "https://localhost:8080/"
        },
        "outputId": "0d09253f-529c-4598-94e4-460a24d3e30a"
      },
      "outputs": [
        {
          "output_type": "stream",
          "name": "stdout",
          "text": [
            "Looking in indexes: https://pypi.org/simple, https://us-python.pkg.dev/colab-wheels/public/simple/\n",
            "Collecting torch==1.7.0\n",
            "  Downloading torch-1.7.0-cp37-cp37m-manylinux1_x86_64.whl (776.7 MB)\n",
            "\u001b[K     |████████████████████████████████| 776.7 MB 4.4 kB/s \n",
            "\u001b[?25hCollecting nltk==3.4.5\n",
            "  Downloading nltk-3.4.5.zip (1.5 MB)\n",
            "\u001b[K     |████████████████████████████████| 1.5 MB 60.1 MB/s \n",
            "\u001b[?25hCollecting colorama==0.4.4\n",
            "  Downloading colorama-0.4.4-py2.py3-none-any.whl (16 kB)\n",
            "Collecting transformers==3.4.0\n",
            "  Downloading transformers-3.4.0-py3-none-any.whl (1.3 MB)\n",
            "\u001b[K     |████████████████████████████████| 1.3 MB 48.5 MB/s \n",
            "\u001b[?25hCollecting torchtext==0.3.1\n",
            "  Downloading torchtext-0.3.1-py3-none-any.whl (62 kB)\n",
            "\u001b[K     |████████████████████████████████| 62 kB 1.2 MB/s \n",
            "\u001b[?25hCollecting dataclasses\n",
            "  Downloading dataclasses-0.6-py3-none-any.whl (14 kB)\n",
            "Requirement already satisfied: numpy in /usr/local/lib/python3.7/dist-packages (from torch==1.7.0->-r requirements.txt (line 1)) (1.21.6)\n",
            "Requirement already satisfied: future in /usr/local/lib/python3.7/dist-packages (from torch==1.7.0->-r requirements.txt (line 1)) (0.16.0)\n",
            "Requirement already satisfied: typing-extensions in /usr/local/lib/python3.7/dist-packages (from torch==1.7.0->-r requirements.txt (line 1)) (4.1.1)\n",
            "Requirement already satisfied: six in /usr/local/lib/python3.7/dist-packages (from nltk==3.4.5->-r requirements.txt (line 2)) (1.15.0)\n",
            "Requirement already satisfied: regex!=2019.12.17 in /usr/local/lib/python3.7/dist-packages (from transformers==3.4.0->-r requirements.txt (line 4)) (2022.6.2)\n",
            "Collecting sacremoses\n",
            "  Downloading sacremoses-0.0.53.tar.gz (880 kB)\n",
            "\u001b[K     |████████████████████████████████| 880 kB 64.2 MB/s \n",
            "\u001b[?25hRequirement already satisfied: filelock in /usr/local/lib/python3.7/dist-packages (from transformers==3.4.0->-r requirements.txt (line 4)) (3.8.0)\n",
            "Collecting tokenizers==0.9.2\n",
            "  Downloading tokenizers-0.9.2-cp37-cp37m-manylinux1_x86_64.whl (2.9 MB)\n",
            "\u001b[K     |████████████████████████████████| 2.9 MB 46.4 MB/s \n",
            "\u001b[?25hRequirement already satisfied: requests in /usr/local/lib/python3.7/dist-packages (from transformers==3.4.0->-r requirements.txt (line 4)) (2.23.0)\n",
            "Requirement already satisfied: tqdm>=4.27 in /usr/local/lib/python3.7/dist-packages (from transformers==3.4.0->-r requirements.txt (line 4)) (4.64.1)\n",
            "Requirement already satisfied: protobuf in /usr/local/lib/python3.7/dist-packages (from transformers==3.4.0->-r requirements.txt (line 4)) (3.19.6)\n",
            "Collecting sentencepiece!=0.1.92\n",
            "  Downloading sentencepiece-0.1.97-cp37-cp37m-manylinux_2_17_x86_64.manylinux2014_x86_64.whl (1.3 MB)\n",
            "\u001b[K     |████████████████████████████████| 1.3 MB 64.5 MB/s \n",
            "\u001b[?25hRequirement already satisfied: packaging in /usr/local/lib/python3.7/dist-packages (from transformers==3.4.0->-r requirements.txt (line 4)) (21.3)\n",
            "Requirement already satisfied: pyparsing!=3.0.5,>=2.0.2 in /usr/local/lib/python3.7/dist-packages (from packaging->transformers==3.4.0->-r requirements.txt (line 4)) (3.0.9)\n",
            "Requirement already satisfied: urllib3!=1.25.0,!=1.25.1,<1.26,>=1.21.1 in /usr/local/lib/python3.7/dist-packages (from requests->transformers==3.4.0->-r requirements.txt (line 4)) (1.24.3)\n",
            "Requirement already satisfied: certifi>=2017.4.17 in /usr/local/lib/python3.7/dist-packages (from requests->transformers==3.4.0->-r requirements.txt (line 4)) (2022.9.24)\n",
            "Requirement already satisfied: chardet<4,>=3.0.2 in /usr/local/lib/python3.7/dist-packages (from requests->transformers==3.4.0->-r requirements.txt (line 4)) (3.0.4)\n",
            "Requirement already satisfied: idna<3,>=2.5 in /usr/local/lib/python3.7/dist-packages (from requests->transformers==3.4.0->-r requirements.txt (line 4)) (2.10)\n",
            "Requirement already satisfied: click in /usr/local/lib/python3.7/dist-packages (from sacremoses->transformers==3.4.0->-r requirements.txt (line 4)) (7.1.2)\n",
            "Requirement already satisfied: joblib in /usr/local/lib/python3.7/dist-packages (from sacremoses->transformers==3.4.0->-r requirements.txt (line 4)) (1.2.0)\n",
            "Building wheels for collected packages: nltk, sacremoses\n",
            "  Building wheel for nltk (setup.py) ... \u001b[?25l\u001b[?25hdone\n",
            "  Created wheel for nltk: filename=nltk-3.4.5-py3-none-any.whl size=1449921 sha256=3829850dcd85a2e266d36ead880dcb8aaa672d451ae51a4a03c3acea7bf2ed54\n",
            "  Stored in directory: /root/.cache/pip/wheels/48/8b/7f/473521e0c731c6566d631b281f323842bbda9bd819eb9a3ead\n",
            "  Building wheel for sacremoses (setup.py) ... \u001b[?25l\u001b[?25hdone\n",
            "  Created wheel for sacremoses: filename=sacremoses-0.0.53-py3-none-any.whl size=895260 sha256=c48a75f27d5ca84012a20433cc79562692e167bd822db0b191ec839eabd2c348\n",
            "  Stored in directory: /root/.cache/pip/wheels/87/39/dd/a83eeef36d0bf98e7a4d1933a4ad2d660295a40613079bafc9\n",
            "Successfully built nltk sacremoses\n",
            "Installing collected packages: dataclasses, torch, tokenizers, sentencepiece, sacremoses, transformers, torchtext, nltk, colorama\n",
            "  Attempting uninstall: torch\n",
            "    Found existing installation: torch 1.12.1+cu113\n",
            "    Uninstalling torch-1.12.1+cu113:\n",
            "      Successfully uninstalled torch-1.12.1+cu113\n",
            "  Attempting uninstall: torchtext\n",
            "    Found existing installation: torchtext 0.13.1\n",
            "    Uninstalling torchtext-0.13.1:\n",
            "      Successfully uninstalled torchtext-0.13.1\n",
            "  Attempting uninstall: nltk\n",
            "    Found existing installation: nltk 3.7\n",
            "    Uninstalling nltk-3.7:\n",
            "      Successfully uninstalled nltk-3.7\n",
            "\u001b[31mERROR: pip's dependency resolver does not currently take into account all the packages that are installed. This behaviour is the source of the following dependency conflicts.\n",
            "torchvision 0.13.1+cu113 requires torch==1.12.1, but you have torch 1.7.0 which is incompatible.\n",
            "torchaudio 0.12.1+cu113 requires torch==1.12.1, but you have torch 1.7.0 which is incompatible.\u001b[0m\n",
            "Successfully installed colorama-0.4.4 dataclasses-0.6 nltk-3.4.5 sacremoses-0.0.53 sentencepiece-0.1.97 tokenizers-0.9.2 torch-1.7.0 torchtext-0.3.1 transformers-3.4.0\n"
          ]
        }
      ],
      "source": [
        "!pip install -r requirements.txt"
      ]
    },
    {
      "cell_type": "code",
      "execution_count": 6,
      "metadata": {
        "id": "yM43ataHq2rJ",
        "colab": {
          "base_uri": "https://localhost:8080/",
          "height": 81,
          "referenced_widgets": [
            "14d214a5ceef44cda07fc3eeac3d70fc",
            "fac832a5ce70420b869249b8f8bddb61",
            "4d8db0b7a0f547c2866ad8e3db64caa6",
            "cb020e4ce0a54e4280938a4d55f44c41",
            "e4d67f3b9ca74296a128f03fba401bce",
            "ff45c43e1fb74e7286035c374d5f2898",
            "a8d28e6d41c841b0975a56d25110c3a9",
            "4b74f1999a1e44198d8a2ca45a18fea0",
            "1d4e9792c8254d5e81d393320678fd67",
            "da90549d813f428581cec8c6c35e4802",
            "0ab325bbf5824411886439a81ec6677a",
            "764dba8763eb442a849190c29973e9f1",
            "7644b5a53e414fe89c43f4b3267e8582",
            "78404a81b4ca44e69540361aaf47bb65",
            "6b80bc432d0242eda83f6e1358f09f92",
            "01ed13a030a94ceea5d715fccf8c767c",
            "7fd1134e03924d53b64cfdf5acf21c30",
            "7facc8561c58479e8b8a3a2f37ad4ed9",
            "a3fb5baa687544d08dbe77ff5a67a28b",
            "1d0d5ed94be34d2ea3115072a96aa0f0",
            "f4970682e0bc449b9e926c7b8787ab91",
            "610e39da345544d49345ef850fecaeb0"
          ]
        },
        "outputId": "6fe57410-ea40-4bf8-f832-031d328d02ee"
      },
      "outputs": [
        {
          "output_type": "display_data",
          "data": {
            "text/plain": [
              "Downloading:   0%|          | 0.00/718 [00:00<?, ?B/s]"
            ],
            "application/vnd.jupyter.widget-view+json": {
              "version_major": 2,
              "version_minor": 0,
              "model_id": "14d214a5ceef44cda07fc3eeac3d70fc"
            }
          },
          "metadata": {}
        },
        {
          "output_type": "display_data",
          "data": {
            "text/plain": [
              "Downloading:   0%|          | 0.00/1.52G [00:00<?, ?B/s]"
            ],
            "application/vnd.jupyter.widget-view+json": {
              "version_major": 2,
              "version_minor": 0,
              "model_id": "764dba8763eb442a849190c29973e9f1"
            }
          },
          "metadata": {}
        }
      ],
      "source": [
        "from transformers.modeling_gpt2 import GPT2LMHeadModel\n",
        "# This downloads GPT-2 Medium, it takes a little while\n",
        "_ = GPT2LMHeadModel.from_pretrained(\"gpt2-medium\")"
      ]
    },
    {
      "cell_type": "code",
      "execution_count": 7,
      "metadata": {
        "id": "DfNwx_F_YZXE"
      },
      "outputs": [],
      "source": [
        "from run_pplm import run_pplm_example"
      ]
    },
    {
      "cell_type": "code",
      "execution_count": 7,
      "metadata": {
        "id": "DIX9QChLHFFt"
      },
      "outputs": [],
      "source": []
    },
    {
      "cell_type": "code",
      "execution_count": 7,
      "metadata": {
        "id": "Vv1TAXBiGteR"
      },
      "outputs": [],
      "source": []
    },
    {
      "cell_type": "code",
      "execution_count": 8,
      "metadata": {
        "id": "hPbaiQn1h0-N"
      },
      "outputs": [],
      "source": [
        "import torch\n",
        "import json\n",
        "model = torch.load(\"/content/drive/MyDrive/PPLM Code/BERT_large_full_pytorch_model.pth\")\n",
        "# checkpoint = torch.load(\"/content/drive/MyDrive/PPLM Code/pytorch_checkpoint.pt\")\n"
      ]
    },
    {
      "cell_type": "code",
      "execution_count": 8,
      "metadata": {
        "id": "NTXZzwwFHDBk"
      },
      "outputs": [],
      "source": []
    },
    {
      "cell_type": "code",
      "execution_count": 9,
      "metadata": {
        "id": "TFs7kONRISIj",
        "colab": {
          "base_uri": "https://localhost:8080/"
        },
        "outputId": "41e0dc84-1224-446d-85b9-13b94602cb43"
      },
      "outputs": [
        {
          "output_type": "execute_result",
          "data": {
            "text/plain": [
              "Sequential(\n",
              "  (0): Linear(in_features=1024, out_features=16, bias=True)\n",
              "  (1): ReLU()\n",
              "  (2): Linear(in_features=16, out_features=16, bias=True)\n",
              "  (3): ReLU()\n",
              "  (4): Dropout(p=0.4, inplace=False)\n",
              "  (5): Linear(in_features=16, out_features=32, bias=True)\n",
              "  (6): ReLU()\n",
              "  (7): Dropout(p=0.3, inplace=False)\n",
              "  (8): Linear(in_features=32, out_features=1, bias=True)\n",
              "  (9): Sigmoid()\n",
              ")"
            ]
          },
          "metadata": {},
          "execution_count": 9
        }
      ],
      "source": [
        "model"
      ]
    },
    {
      "cell_type": "code",
      "execution_count": 10,
      "metadata": {
        "id": "rjAPrVT4Itkh",
        "colab": {
          "base_uri": "https://localhost:8080/"
        },
        "outputId": "6cf1a13a-0bca-4ff2-c9c2-0d5450ef92f2"
      },
      "outputs": [
        {
          "output_type": "execute_result",
          "data": {
            "text/plain": [
              "Sequential(\n",
              "  (0): Linear(in_features=1024, out_features=16, bias=True)\n",
              "  (1): ReLU()\n",
              "  (2): Linear(in_features=16, out_features=16, bias=True)\n",
              "  (3): ReLU()\n",
              "  (4): Dropout(p=0.4, inplace=False)\n",
              "  (5): Linear(in_features=16, out_features=32, bias=True)\n",
              "  (6): ReLU()\n",
              "  (7): Dropout(p=0.3, inplace=False)\n",
              "  (8): Linear(in_features=32, out_features=1, bias=True)\n",
              "  (9): Sigmoid()\n",
              ")"
            ]
          },
          "metadata": {},
          "execution_count": 10
        }
      ],
      "source": [
        "model.eval()"
      ]
    },
    {
      "cell_type": "code",
      "execution_count": 12,
      "metadata": {
        "id": "MjAjAmoLjH_T"
      },
      "outputs": [],
      "source": [
        "# weights_model = torch.load(\"/content/drive/MyDrive/PPLM Code/pytorch_weights_only.pth\")"
      ]
    },
    {
      "cell_type": "code",
      "execution_count": 13,
      "metadata": {
        "id": "j7wUEVkVjIHB"
      },
      "outputs": [],
      "source": [
        "# weights_model"
      ]
    },
    {
      "cell_type": "code",
      "execution_count": 14,
      "metadata": {
        "id": "JnBE0cAujIJl"
      },
      "outputs": [],
      "source": [
        "# print(type(checkpoint))"
      ]
    },
    {
      "cell_type": "code",
      "execution_count": 15,
      "metadata": {
        "id": "ewp1c43xjIL-"
      },
      "outputs": [],
      "source": [
        "json_meta = {\"class_size\": 2, \"embed_size\":768, \"pretrained_model\":\"gpt2-medium\", \"class_vocab\":{\"non_toxic\": 0 , \"toxic\": 1}, \"default_class\": 0}"
      ]
    },
    {
      "cell_type": "code",
      "execution_count": 15,
      "metadata": {
        "id": "NntltP9iYAv5"
      },
      "outputs": [],
      "source": []
    },
    {
      "cell_type": "code",
      "execution_count": 15,
      "metadata": {
        "id": "ScZikl1cYAtd"
      },
      "outputs": [],
      "source": []
    },
    {
      "cell_type": "markdown",
      "metadata": {
        "id": "B5Yl_u6BYnS5"
      },
      "source": [
        "# Let's generate some text!\n",
        "When you specify a number of samples, PPLM will first generate a sample without any modification for reference (called \"unperturbed\"), and then the number of samples specified (called \"perturbed\"). If you want to generate different samples given the same parameters, change the `seed` value to a number other than 0 (the default value)."
      ]
    },
    {
      "cell_type": "code",
      "execution_count": 16,
      "metadata": {
        "id": "qRgA-K7sYArM"
      },
      "outputs": [],
      "source": [
        "meta_template_bert_large = {\"class_size\": 2, \"embed_size\": 1024, \"pretrained_model\": \"gpt2-medium\", \"class_vocab\": {\"non_toxic\": 0, \"toxic\": 1}, \"default_class\": 0}"
      ]
    },
    {
      "cell_type": "code",
      "execution_count": 17,
      "metadata": {
        "id": "3Q4ed4E6YAo4"
      },
      "outputs": [],
      "source": [
        "import json\n",
        "with open('/content/drive/MyDrive/PPLM Code/meta_json_file_BERT_Large.json', 'w') as f:\n",
        "    json.dump(meta_template_bert_large, f)"
      ]
    },
    {
      "cell_type": "code",
      "execution_count": 18,
      "metadata": {
        "id": "OSpwDuePYAhW",
        "colab": {
          "base_uri": "https://localhost:8080/"
        },
        "outputId": "388de902-0508-4a62-903c-37706b1caede"
      },
      "outputs": [
        {
          "output_type": "execute_result",
          "data": {
            "text/plain": [
              "<bound method Module.load_state_dict of Sequential(\n",
              "  (0): Linear(in_features=1024, out_features=16, bias=True)\n",
              "  (1): ReLU()\n",
              "  (2): Linear(in_features=16, out_features=16, bias=True)\n",
              "  (3): ReLU()\n",
              "  (4): Dropout(p=0.4, inplace=False)\n",
              "  (5): Linear(in_features=16, out_features=32, bias=True)\n",
              "  (6): ReLU()\n",
              "  (7): Dropout(p=0.3, inplace=False)\n",
              "  (8): Linear(in_features=32, out_features=1, bias=True)\n",
              "  (9): Sigmoid()\n",
              ")>"
            ]
          },
          "metadata": {},
          "execution_count": 18
        }
      ],
      "source": [
        "model.load_state_dict"
      ]
    },
    {
      "cell_type": "code",
      "execution_count": 18,
      "metadata": {
        "id": "frt68gInWkZC"
      },
      "outputs": [],
      "source": []
    },
    {
      "cell_type": "code",
      "execution_count": 19,
      "metadata": {
        "id": "stmBEfq6Zler",
        "colab": {
          "base_uri": "https://localhost:8080/",
          "height": 1000,
          "referenced_widgets": [
            "bb77c9353706426fb0495532df749b45",
            "f0f7f346163848efa78f61840cfd88b3",
            "dad4c427a744463baf2ba37d61297041",
            "b9bf1d4599e443f7963ee73220817df7",
            "ad8a9e50b2dc4bdd9dc32c5f1d469dd2",
            "7ad012b57eb442dbbeb542795d9ac216",
            "9d6fb609fecf4667a982d9f4aa9cdafd",
            "01e272d52a164bd68201b6c2d21ec5d4",
            "2fc5619ea21a4f45b5579f0a4e09396d",
            "d46eccc4163b4f43b8f92037ddf8a01f",
            "d9584d2377a84f73a85c56289949bb9a",
            "ead0584b8d4e4c968d2f3770ff63946d",
            "8de2e9e1d7644609a8d935e47c219bba",
            "daff4ea6211b4d73949b09983c2363ab",
            "2beb1d5ecbea4b3b81bf2918a587b017",
            "314454143ea040a883fb4face80b1a85",
            "fcb792db981a424d8d44ae7df0f557b3",
            "ec1c10af620b470aa5166017ccd35220",
            "4a6576747fe14fe58e9c1bc4b62e08a9",
            "121a7fc8671642b786d2a69fc310c10a",
            "25c85a021c594083a2a094b388dc655c",
            "1956c439a5fc4de7abcb070ac9367f86"
          ]
        },
        "outputId": "7ed5ce33-4dc1-4101-e1e3-d481e446f961"
      },
      "outputs": [
        {
          "output_type": "stream",
          "name": "stdout",
          "text": [
            "IN RUN PPLM FUNCTION\n"
          ]
        },
        {
          "output_type": "display_data",
          "data": {
            "text/plain": [
              "Downloading:   0%|          | 0.00/1.04M [00:00<?, ?B/s]"
            ],
            "application/vnd.jupyter.widget-view+json": {
              "version_major": 2,
              "version_minor": 0,
              "model_id": "bb77c9353706426fb0495532df749b45"
            }
          },
          "metadata": {}
        },
        {
          "output_type": "display_data",
          "data": {
            "text/plain": [
              "Downloading:   0%|          | 0.00/456k [00:00<?, ?B/s]"
            ],
            "application/vnd.jupyter.widget-view+json": {
              "version_major": 2,
              "version_minor": 0,
              "model_id": "ead0584b8d4e4c968d2f3770ff63946d"
            }
          },
          "metadata": {}
        },
        {
          "output_type": "stream",
          "name": "stdout",
          "text": [
            "= Prefix of sentence =\n",
            "<|endoftext|>Spanish group of\n",
            "\n",
            "Using PPLM-Discrim\n"
          ]
        },
        {
          "output_type": "stream",
          "name": "stderr",
          "text": [
            "/usr/local/lib/python3.7/dist-packages/transformers/modeling_gpt2.py:759: FutureWarning: The `past` argument is deprecated and will be removed in a future version, use `past_key_values` instead.\n",
            "  FutureWarning,\n"
          ]
        },
        {
          "output_type": "stream",
          "name": "stdout",
          "text": [
            "<|endoftext|>Spanish group of young\n",
            "<|endoftext|>Spanish group of young people\n",
            "<|endoftext|>Spanish group of young people,\n",
            "<|endoftext|>Spanish group of young people, known\n",
            "<|endoftext|>Spanish group of young people, known as\n",
            "<|endoftext|>Spanish group of young people, known as \"\n",
            "<|endoftext|>Spanish group of young people, known as \"El\n",
            "<|endoftext|>Spanish group of young people, known as \"El Mund\n",
            "<|endoftext|>Spanish group of young people, known as \"El Mundo\n",
            "<|endoftext|>Spanish group of young people, known as \"El Mundo\"\n",
            "<|endoftext|>Spanish group of young people, known as \"El Mundo\" (\n",
            "<|endoftext|>Spanish group of young people, known as \"El Mundo\" (the\n",
            "<|endoftext|>Spanish group of young people, known as \"El Mundo\" (the Mountain\n",
            "<|endoftext|>Spanish group of young people, known as \"El Mundo\" (the Mountain)\n",
            "<|endoftext|>Spanish group of young people, known as \"El Mundo\" (the Mountain) were\n",
            "<|endoftext|>Spanish group of young people, known as \"El Mundo\" (the Mountain) were arrested\n",
            "<|endoftext|>Spanish group of young people, known as \"El Mundo\" (the Mountain) were arrested after\n",
            "<|endoftext|>Spanish group of young people, known as \"El Mundo\" (the Mountain) were arrested after allegedly\n",
            "<|endoftext|>Spanish group of young people, known as \"El Mundo\" (the Mountain) were arrested after allegedly attempting\n",
            "<|endoftext|>Spanish group of young people, known as \"El Mundo\" (the Mountain) were arrested after allegedly attempting to\n",
            "<|endoftext|>Spanish group of young people, known as \"El Mundo\" (the Mountain) were arrested after allegedly attempting to rob\n",
            "<|endoftext|>Spanish group of young people, known as \"El Mundo\" (the Mountain) were arrested after allegedly attempting to rob a\n",
            "<|endoftext|>Spanish group of young people, known as \"El Mundo\" (the Mountain) were arrested after allegedly attempting to rob a convenience\n",
            "<|endoftext|>Spanish group of young people, known as \"El Mundo\" (the Mountain) were arrested after allegedly attempting to rob a convenience store\n",
            "<|endoftext|>Spanish group of young people, known as \"El Mundo\" (the Mountain) were arrested after allegedly attempting to rob a convenience store.\n",
            "<|endoftext|>Spanish group of young people, known as \"El Mundo\" (the Mountain) were arrested after allegedly attempting to rob a convenience store.\n",
            "\n",
            "<|endoftext|>Spanish group of young people, known as \"El Mundo\" (the Mountain) were arrested after allegedly attempting to rob a convenience store.\n",
            "\n",
            "\n",
            "<|endoftext|>Spanish group of young people, known as \"El Mundo\" (the Mountain) were arrested after allegedly attempting to rob a convenience store.\n",
            "\n",
            "Police\n",
            "<|endoftext|>Spanish group of young people, known as \"El Mundo\" (the Mountain) were arrested after allegedly attempting to rob a convenience store.\n",
            "\n",
            "Police say\n",
            "<|endoftext|>Spanish group of young people, known as \"El Mundo\" (the Mountain) were arrested after allegedly attempting to rob a convenience store.\n",
            "\n",
            "Police say the\n",
            "<|endoftext|>Spanish group of young people, known as \"El Mundo\" (the Mountain) were arrested after allegedly attempting to rob a convenience store.\n",
            "\n",
            "Police say the teens\n",
            "<|endoftext|>Spanish group of young people, known as \"El Mundo\" (the Mountain) were arrested after allegedly attempting to rob a convenience store.\n",
            "\n",
            "Police say the teens were\n",
            "<|endoftext|>Spanish group of young people, known as \"El Mundo\" (the Mountain) were arrested after allegedly attempting to rob a convenience store.\n",
            "\n",
            "Police say the teens were arrested\n",
            "<|endoftext|>Spanish group of young people, known as \"El Mundo\" (the Mountain) were arrested after allegedly attempting to rob a convenience store.\n",
            "\n",
            "Police say the teens were arrested after\n",
            "<|endoftext|>Spanish group of young people, known as \"El Mundo\" (the Mountain) were arrested after allegedly attempting to rob a convenience store.\n",
            "\n",
            "Police say the teens were arrested after an\n",
            "<|endoftext|>Spanish group of young people, known as \"El Mundo\" (the Mountain) were arrested after allegedly attempting to rob a convenience store.\n",
            "\n",
            "Police say the teens were arrested after an undercover\n",
            "<|endoftext|>Spanish group of young people, known as \"El Mundo\" (the Mountain) were arrested after allegedly attempting to rob a convenience store.\n",
            "\n",
            "Police say the teens were arrested after an undercover officer\n",
            "<|endoftext|>Spanish group of young people, known as \"El Mundo\" (the Mountain) were arrested after allegedly attempting to rob a convenience store.\n",
            "\n",
            "Police say the teens were arrested after an undercover officer tried\n",
            "<|endoftext|>Spanish group of young people, known as \"El Mundo\" (the Mountain) were arrested after allegedly attempting to rob a convenience store.\n",
            "\n",
            "Police say the teens were arrested after an undercover officer tried to\n",
            "<|endoftext|>Spanish group of young people, known as \"El Mundo\" (the Mountain) were arrested after allegedly attempting to rob a convenience store.\n",
            "\n",
            "Police say the teens were arrested after an undercover officer tried to rob\n",
            "<|endoftext|>Spanish group of young people, known as \"El Mundo\" (the Mountain) were arrested after allegedly attempting to rob a convenience store.\n",
            "\n",
            "Police say the teens were arrested after an undercover officer tried to rob a\n",
            "<|endoftext|>Spanish group of young people, known as \"El Mundo\" (the Mountain) were arrested after allegedly attempting to rob a convenience store.\n",
            "\n",
            "Police say the teens were arrested after an undercover officer tried to rob a store\n",
            "<|endoftext|>Spanish group of young people, known as \"El Mundo\" (the Mountain) were arrested after allegedly attempting to rob a convenience store.\n",
            "\n",
            "Police say the teens were arrested after an undercover officer tried to rob a store in\n",
            "<|endoftext|>Spanish group of young people, known as \"El Mundo\" (the Mountain) were arrested after allegedly attempting to rob a convenience store.\n",
            "\n",
            "Police say the teens were arrested after an undercover officer tried to rob a store in the\n",
            "<|endoftext|>Spanish group of young people, known as \"El Mundo\" (the Mountain) were arrested after allegedly attempting to rob a convenience store.\n",
            "\n",
            "Police say the teens were arrested after an undercover officer tried to rob a store in the town\n",
            "<|endoftext|>Spanish group of young people, known as \"El Mundo\" (the Mountain) were arrested after allegedly attempting to rob a convenience store.\n",
            "\n",
            "Police say the teens were arrested after an undercover officer tried to rob a store in the town of\n",
            "<|endoftext|>Spanish group of young people, known as \"El Mundo\" (the Mountain) were arrested after allegedly attempting to rob a convenience store.\n",
            "\n",
            "Police say the teens were arrested after an undercover officer tried to rob a store in the town of Sant\n",
            "<|endoftext|>Spanish group of young people, known as \"El Mundo\" (the Mountain) were arrested after allegedly attempting to rob a convenience store.\n",
            "\n",
            "Police say the teens were arrested after an undercover officer tried to rob a store in the town of Santo\n",
            "<|endoftext|>Spanish group of young people, known as \"El Mundo\" (the Mountain) were arrested after allegedly attempting to rob a convenience store.\n",
            "\n",
            "Police say the teens were arrested after an undercover officer tried to rob a store in the town of Santo D\n",
            "<|endoftext|>Spanish group of young people, known as \"El Mundo\" (the Mountain) were arrested after allegedly attempting to rob a convenience store.\n",
            "\n",
            "Police say the teens were arrested after an undercover officer tried to rob a store in the town of Santo Doming\n",
            "<|endoftext|>Spanish group of fans\n",
            "<|endoftext|>Spanish group of fans had\n",
            "<|endoftext|>Spanish group of fans had the\n",
            "<|endoftext|>Spanish group of fans had the chance\n",
            "<|endoftext|>Spanish group of fans had the chance to\n",
            "<|endoftext|>Spanish group of fans had the chance to meet\n",
            "<|endoftext|>Spanish group of fans had the chance to meet their\n",
            "<|endoftext|>Spanish group of fans had the chance to meet their new\n",
            "<|endoftext|>Spanish group of fans had the chance to meet their new favourite\n",
            "<|endoftext|>Spanish group of fans had the chance to meet their new favourite football\n",
            "<|endoftext|>Spanish group of fans had the chance to meet their new favourite football club\n",
            "<|endoftext|>Spanish group of fans had the chance to meet their new favourite football club and\n",
            "<|endoftext|>Spanish group of fans had the chance to meet their new favourite football club and have\n",
            "<|endoftext|>Spanish group of fans had the chance to meet their new favourite football club and have a\n",
            "<|endoftext|>Spanish group of fans had the chance to meet their new favourite football club and have a chat\n",
            "<|endoftext|>Spanish group of fans had the chance to meet their new favourite football club and have a chat with\n",
            "<|endoftext|>Spanish group of fans had the chance to meet their new favourite football club and have a chat with their\n",
            "<|endoftext|>Spanish group of fans had the chance to meet their new favourite football club and have a chat with their new\n",
            "<|endoftext|>Spanish group of fans had the chance to meet their new favourite football club and have a chat with their new team\n",
            "<|endoftext|>Spanish group of fans had the chance to meet their new favourite football club and have a chat with their new team.\n",
            "<|endoftext|>Spanish group of fans had the chance to meet their new favourite football club and have a chat with their new team.\n",
            "\n",
            "<|endoftext|>Spanish group of fans had the chance to meet their new favourite football club and have a chat with their new team.\n",
            "\n",
            "\n",
            "<|endoftext|>Spanish group of fans had the chance to meet their new favourite football club and have a chat with their new team.\n",
            "\n",
            "After\n",
            "<|endoftext|>Spanish group of fans had the chance to meet their new favourite football club and have a chat with their new team.\n",
            "\n",
            "After being\n",
            "<|endoftext|>Spanish group of fans had the chance to meet their new favourite football club and have a chat with their new team.\n",
            "\n",
            "After being offered\n",
            "<|endoftext|>Spanish group of fans had the chance to meet their new favourite football club and have a chat with their new team.\n",
            "\n",
            "After being offered a\n",
            "<|endoftext|>Spanish group of fans had the chance to meet their new favourite football club and have a chat with their new team.\n",
            "\n",
            "After being offered a chance\n",
            "<|endoftext|>Spanish group of fans had the chance to meet their new favourite football club and have a chat with their new team.\n",
            "\n",
            "After being offered a chance to\n",
            "<|endoftext|>Spanish group of fans had the chance to meet their new favourite football club and have a chat with their new team.\n",
            "\n",
            "After being offered a chance to play\n",
            "<|endoftext|>Spanish group of fans had the chance to meet their new favourite football club and have a chat with their new team.\n",
            "\n",
            "After being offered a chance to play a\n",
            "<|endoftext|>Spanish group of fans had the chance to meet their new favourite football club and have a chat with their new team.\n",
            "\n",
            "After being offered a chance to play a game\n",
            "<|endoftext|>Spanish group of fans had the chance to meet their new favourite football club and have a chat with their new team.\n",
            "\n",
            "After being offered a chance to play a game against\n",
            "<|endoftext|>Spanish group of fans had the chance to meet their new favourite football club and have a chat with their new team.\n",
            "\n",
            "After being offered a chance to play a game against Real\n",
            "<|endoftext|>Spanish group of fans had the chance to meet their new favourite football club and have a chat with their new team.\n",
            "\n",
            "After being offered a chance to play a game against Real Madrid\n",
            "<|endoftext|>Spanish group of fans had the chance to meet their new favourite football club and have a chat with their new team.\n",
            "\n",
            "After being offered a chance to play a game against Real Madrid,\n",
            "<|endoftext|>Spanish group of fans had the chance to meet their new favourite football club and have a chat with their new team.\n",
            "\n",
            "After being offered a chance to play a game against Real Madrid, many\n",
            "<|endoftext|>Spanish group of fans had the chance to meet their new favourite football club and have a chat with their new team.\n",
            "\n",
            "After being offered a chance to play a game against Real Madrid, many fans\n",
            "<|endoftext|>Spanish group of fans had the chance to meet their new favourite football club and have a chat with their new team.\n",
            "\n",
            "After being offered a chance to play a game against Real Madrid, many fans were\n",
            "<|endoftext|>Spanish group of fans had the chance to meet their new favourite football club and have a chat with their new team.\n",
            "\n",
            "After being offered a chance to play a game against Real Madrid, many fans were quite\n",
            "<|endoftext|>Spanish group of fans had the chance to meet their new favourite football club and have a chat with their new team.\n",
            "\n",
            "After being offered a chance to play a game against Real Madrid, many fans were quite happy\n",
            "<|endoftext|>Spanish group of fans had the chance to meet their new favourite football club and have a chat with their new team.\n",
            "\n",
            "After being offered a chance to play a game against Real Madrid, many fans were quite happy when\n",
            "<|endoftext|>Spanish group of fans had the chance to meet their new favourite football club and have a chat with their new team.\n",
            "\n",
            "After being offered a chance to play a game against Real Madrid, many fans were quite happy when they\n",
            "<|endoftext|>Spanish group of fans had the chance to meet their new favourite football club and have a chat with their new team.\n",
            "\n",
            "After being offered a chance to play a game against Real Madrid, many fans were quite happy when they finally\n",
            "<|endoftext|>Spanish group of fans had the chance to meet their new favourite football club and have a chat with their new team.\n",
            "\n",
            "After being offered a chance to play a game against Real Madrid, many fans were quite happy when they finally got\n",
            "<|endoftext|>Spanish group of fans had the chance to meet their new favourite football club and have a chat with their new team.\n",
            "\n",
            "After being offered a chance to play a game against Real Madrid, many fans were quite happy when they finally got to\n",
            "<|endoftext|>Spanish group of fans had the chance to meet their new favourite football club and have a chat with their new team.\n",
            "\n",
            "After being offered a chance to play a game against Real Madrid, many fans were quite happy when they finally got to see\n",
            "<|endoftext|>Spanish group of fans had the chance to meet their new favourite football club and have a chat with their new team.\n",
            "\n",
            "After being offered a chance to play a game against Real Madrid, many fans were quite happy when they finally got to see the\n",
            "<|endoftext|>Spanish group of fans had the chance to meet their new favourite football club and have a chat with their new team.\n",
            "\n",
            "After being offered a chance to play a game against Real Madrid, many fans were quite happy when they finally got to see the brand\n",
            "<|endoftext|>Spanish group of fans had the chance to meet their new favourite football club and have a chat with their new team.\n",
            "\n",
            "After being offered a chance to play a game against Real Madrid, many fans were quite happy when they finally got to see the brand new\n",
            "<|endoftext|>Spanish group of fans had the chance to meet their new favourite football club and have a chat with their new team.\n",
            "\n",
            "After being offered a chance to play a game against Real Madrid, many fans were quite happy when they finally got to see the brand new side\n",
            "================================================================================\n",
            "= Unperturbed generated text =\n",
            "<|endoftext|>Spanish group of young people, known as \"El Mundo\" (the Mountain) were arrested after allegedly attempting to rob a convenience store.\n",
            "\n",
            "Police say the teens were arrested after an undercover officer tried to rob a store in the town of Santo Doming\n",
            "\n",
            "= Perturbed generated text 1 =\n",
            "<|endoftext|>Spanish group of fans had the chance to meet their new favourite football club and have a chat with their new team.\n",
            "\n",
            "After being offered a chance to play a game against Real Madrid, many fans were quite happy when they finally got to see the brand new side\n",
            "\n"
          ]
        }
      ],
      "source": [
        "\n",
        "run_pplm_example(\n",
        "    cond_text=\"Spanish group of\",\n",
        "    num_samples=1,\n",
        "    class_label=0,\n",
        "    length=50,\n",
        "    stepsize=0.3, # 0.05 is the default\n",
        "    sample=True,\n",
        "    num_iterations=10,\n",
        "    gamma=1,\n",
        "    gm_scale=0.95,\n",
        "    kl_scale=0.02,\n",
        "    verbosity='regular',\n",
        "    discrim='heeket',\n",
        "    discrim_weights=\"/content/drive/MyDrive/PPLM Code/BERT_large_full_pytorch_model.pth\",\n",
        "    discrim_meta = \"/content/drive/MyDrive/PPLM Code/meta_json_file_BERT_Large.json\"\n",
        "\n",
        "\n",
        ")"
      ]
    },
    {
      "cell_type": "code",
      "execution_count": 19,
      "metadata": {
        "id": "RqxRvcMMRm5C"
      },
      "outputs": [],
      "source": [
        "\n"
      ]
    },
    {
      "cell_type": "code",
      "execution_count": null,
      "metadata": {
        "id": "eWctU3TkY-K_"
      },
      "outputs": [],
      "source": []
    },
    {
      "cell_type": "code",
      "execution_count": null,
      "metadata": {
        "id": "08myBS-nZNKq"
      },
      "outputs": [],
      "source": []
    },
    {
      "cell_type": "code",
      "execution_count": null,
      "metadata": {
        "id": "29z2p0loZOV6"
      },
      "outputs": [],
      "source": []
    }
  ],
  "metadata": {
    "accelerator": "GPU",
    "colab": {
      "provenance": []
    },
    "gpuClass": "standard",
    "kernelspec": {
      "display_name": "Python 3",
      "name": "python3"
    },
    "widgets": {
      "application/vnd.jupyter.widget-state+json": {
        "14d214a5ceef44cda07fc3eeac3d70fc": {
          "model_module": "@jupyter-widgets/controls",
          "model_name": "HBoxModel",
          "model_module_version": "1.5.0",
          "state": {
            "_dom_classes": [],
            "_model_module": "@jupyter-widgets/controls",
            "_model_module_version": "1.5.0",
            "_model_name": "HBoxModel",
            "_view_count": null,
            "_view_module": "@jupyter-widgets/controls",
            "_view_module_version": "1.5.0",
            "_view_name": "HBoxView",
            "box_style": "",
            "children": [
              "IPY_MODEL_fac832a5ce70420b869249b8f8bddb61",
              "IPY_MODEL_4d8db0b7a0f547c2866ad8e3db64caa6",
              "IPY_MODEL_cb020e4ce0a54e4280938a4d55f44c41"
            ],
            "layout": "IPY_MODEL_e4d67f3b9ca74296a128f03fba401bce"
          }
        },
        "fac832a5ce70420b869249b8f8bddb61": {
          "model_module": "@jupyter-widgets/controls",
          "model_name": "HTMLModel",
          "model_module_version": "1.5.0",
          "state": {
            "_dom_classes": [],
            "_model_module": "@jupyter-widgets/controls",
            "_model_module_version": "1.5.0",
            "_model_name": "HTMLModel",
            "_view_count": null,
            "_view_module": "@jupyter-widgets/controls",
            "_view_module_version": "1.5.0",
            "_view_name": "HTMLView",
            "description": "",
            "description_tooltip": null,
            "layout": "IPY_MODEL_ff45c43e1fb74e7286035c374d5f2898",
            "placeholder": "​",
            "style": "IPY_MODEL_a8d28e6d41c841b0975a56d25110c3a9",
            "value": "Downloading: 100%"
          }
        },
        "4d8db0b7a0f547c2866ad8e3db64caa6": {
          "model_module": "@jupyter-widgets/controls",
          "model_name": "FloatProgressModel",
          "model_module_version": "1.5.0",
          "state": {
            "_dom_classes": [],
            "_model_module": "@jupyter-widgets/controls",
            "_model_module_version": "1.5.0",
            "_model_name": "FloatProgressModel",
            "_view_count": null,
            "_view_module": "@jupyter-widgets/controls",
            "_view_module_version": "1.5.0",
            "_view_name": "ProgressView",
            "bar_style": "success",
            "description": "",
            "description_tooltip": null,
            "layout": "IPY_MODEL_4b74f1999a1e44198d8a2ca45a18fea0",
            "max": 718,
            "min": 0,
            "orientation": "horizontal",
            "style": "IPY_MODEL_1d4e9792c8254d5e81d393320678fd67",
            "value": 718
          }
        },
        "cb020e4ce0a54e4280938a4d55f44c41": {
          "model_module": "@jupyter-widgets/controls",
          "model_name": "HTMLModel",
          "model_module_version": "1.5.0",
          "state": {
            "_dom_classes": [],
            "_model_module": "@jupyter-widgets/controls",
            "_model_module_version": "1.5.0",
            "_model_name": "HTMLModel",
            "_view_count": null,
            "_view_module": "@jupyter-widgets/controls",
            "_view_module_version": "1.5.0",
            "_view_name": "HTMLView",
            "description": "",
            "description_tooltip": null,
            "layout": "IPY_MODEL_da90549d813f428581cec8c6c35e4802",
            "placeholder": "​",
            "style": "IPY_MODEL_0ab325bbf5824411886439a81ec6677a",
            "value": " 718/718 [00:00&lt;00:00, 23.9kB/s]"
          }
        },
        "e4d67f3b9ca74296a128f03fba401bce": {
          "model_module": "@jupyter-widgets/base",
          "model_name": "LayoutModel",
          "model_module_version": "1.2.0",
          "state": {
            "_model_module": "@jupyter-widgets/base",
            "_model_module_version": "1.2.0",
            "_model_name": "LayoutModel",
            "_view_count": null,
            "_view_module": "@jupyter-widgets/base",
            "_view_module_version": "1.2.0",
            "_view_name": "LayoutView",
            "align_content": null,
            "align_items": null,
            "align_self": null,
            "border": null,
            "bottom": null,
            "display": null,
            "flex": null,
            "flex_flow": null,
            "grid_area": null,
            "grid_auto_columns": null,
            "grid_auto_flow": null,
            "grid_auto_rows": null,
            "grid_column": null,
            "grid_gap": null,
            "grid_row": null,
            "grid_template_areas": null,
            "grid_template_columns": null,
            "grid_template_rows": null,
            "height": null,
            "justify_content": null,
            "justify_items": null,
            "left": null,
            "margin": null,
            "max_height": null,
            "max_width": null,
            "min_height": null,
            "min_width": null,
            "object_fit": null,
            "object_position": null,
            "order": null,
            "overflow": null,
            "overflow_x": null,
            "overflow_y": null,
            "padding": null,
            "right": null,
            "top": null,
            "visibility": null,
            "width": null
          }
        },
        "ff45c43e1fb74e7286035c374d5f2898": {
          "model_module": "@jupyter-widgets/base",
          "model_name": "LayoutModel",
          "model_module_version": "1.2.0",
          "state": {
            "_model_module": "@jupyter-widgets/base",
            "_model_module_version": "1.2.0",
            "_model_name": "LayoutModel",
            "_view_count": null,
            "_view_module": "@jupyter-widgets/base",
            "_view_module_version": "1.2.0",
            "_view_name": "LayoutView",
            "align_content": null,
            "align_items": null,
            "align_self": null,
            "border": null,
            "bottom": null,
            "display": null,
            "flex": null,
            "flex_flow": null,
            "grid_area": null,
            "grid_auto_columns": null,
            "grid_auto_flow": null,
            "grid_auto_rows": null,
            "grid_column": null,
            "grid_gap": null,
            "grid_row": null,
            "grid_template_areas": null,
            "grid_template_columns": null,
            "grid_template_rows": null,
            "height": null,
            "justify_content": null,
            "justify_items": null,
            "left": null,
            "margin": null,
            "max_height": null,
            "max_width": null,
            "min_height": null,
            "min_width": null,
            "object_fit": null,
            "object_position": null,
            "order": null,
            "overflow": null,
            "overflow_x": null,
            "overflow_y": null,
            "padding": null,
            "right": null,
            "top": null,
            "visibility": null,
            "width": null
          }
        },
        "a8d28e6d41c841b0975a56d25110c3a9": {
          "model_module": "@jupyter-widgets/controls",
          "model_name": "DescriptionStyleModel",
          "model_module_version": "1.5.0",
          "state": {
            "_model_module": "@jupyter-widgets/controls",
            "_model_module_version": "1.5.0",
            "_model_name": "DescriptionStyleModel",
            "_view_count": null,
            "_view_module": "@jupyter-widgets/base",
            "_view_module_version": "1.2.0",
            "_view_name": "StyleView",
            "description_width": ""
          }
        },
        "4b74f1999a1e44198d8a2ca45a18fea0": {
          "model_module": "@jupyter-widgets/base",
          "model_name": "LayoutModel",
          "model_module_version": "1.2.0",
          "state": {
            "_model_module": "@jupyter-widgets/base",
            "_model_module_version": "1.2.0",
            "_model_name": "LayoutModel",
            "_view_count": null,
            "_view_module": "@jupyter-widgets/base",
            "_view_module_version": "1.2.0",
            "_view_name": "LayoutView",
            "align_content": null,
            "align_items": null,
            "align_self": null,
            "border": null,
            "bottom": null,
            "display": null,
            "flex": null,
            "flex_flow": null,
            "grid_area": null,
            "grid_auto_columns": null,
            "grid_auto_flow": null,
            "grid_auto_rows": null,
            "grid_column": null,
            "grid_gap": null,
            "grid_row": null,
            "grid_template_areas": null,
            "grid_template_columns": null,
            "grid_template_rows": null,
            "height": null,
            "justify_content": null,
            "justify_items": null,
            "left": null,
            "margin": null,
            "max_height": null,
            "max_width": null,
            "min_height": null,
            "min_width": null,
            "object_fit": null,
            "object_position": null,
            "order": null,
            "overflow": null,
            "overflow_x": null,
            "overflow_y": null,
            "padding": null,
            "right": null,
            "top": null,
            "visibility": null,
            "width": null
          }
        },
        "1d4e9792c8254d5e81d393320678fd67": {
          "model_module": "@jupyter-widgets/controls",
          "model_name": "ProgressStyleModel",
          "model_module_version": "1.5.0",
          "state": {
            "_model_module": "@jupyter-widgets/controls",
            "_model_module_version": "1.5.0",
            "_model_name": "ProgressStyleModel",
            "_view_count": null,
            "_view_module": "@jupyter-widgets/base",
            "_view_module_version": "1.2.0",
            "_view_name": "StyleView",
            "bar_color": null,
            "description_width": ""
          }
        },
        "da90549d813f428581cec8c6c35e4802": {
          "model_module": "@jupyter-widgets/base",
          "model_name": "LayoutModel",
          "model_module_version": "1.2.0",
          "state": {
            "_model_module": "@jupyter-widgets/base",
            "_model_module_version": "1.2.0",
            "_model_name": "LayoutModel",
            "_view_count": null,
            "_view_module": "@jupyter-widgets/base",
            "_view_module_version": "1.2.0",
            "_view_name": "LayoutView",
            "align_content": null,
            "align_items": null,
            "align_self": null,
            "border": null,
            "bottom": null,
            "display": null,
            "flex": null,
            "flex_flow": null,
            "grid_area": null,
            "grid_auto_columns": null,
            "grid_auto_flow": null,
            "grid_auto_rows": null,
            "grid_column": null,
            "grid_gap": null,
            "grid_row": null,
            "grid_template_areas": null,
            "grid_template_columns": null,
            "grid_template_rows": null,
            "height": null,
            "justify_content": null,
            "justify_items": null,
            "left": null,
            "margin": null,
            "max_height": null,
            "max_width": null,
            "min_height": null,
            "min_width": null,
            "object_fit": null,
            "object_position": null,
            "order": null,
            "overflow": null,
            "overflow_x": null,
            "overflow_y": null,
            "padding": null,
            "right": null,
            "top": null,
            "visibility": null,
            "width": null
          }
        },
        "0ab325bbf5824411886439a81ec6677a": {
          "model_module": "@jupyter-widgets/controls",
          "model_name": "DescriptionStyleModel",
          "model_module_version": "1.5.0",
          "state": {
            "_model_module": "@jupyter-widgets/controls",
            "_model_module_version": "1.5.0",
            "_model_name": "DescriptionStyleModel",
            "_view_count": null,
            "_view_module": "@jupyter-widgets/base",
            "_view_module_version": "1.2.0",
            "_view_name": "StyleView",
            "description_width": ""
          }
        },
        "764dba8763eb442a849190c29973e9f1": {
          "model_module": "@jupyter-widgets/controls",
          "model_name": "HBoxModel",
          "model_module_version": "1.5.0",
          "state": {
            "_dom_classes": [],
            "_model_module": "@jupyter-widgets/controls",
            "_model_module_version": "1.5.0",
            "_model_name": "HBoxModel",
            "_view_count": null,
            "_view_module": "@jupyter-widgets/controls",
            "_view_module_version": "1.5.0",
            "_view_name": "HBoxView",
            "box_style": "",
            "children": [
              "IPY_MODEL_7644b5a53e414fe89c43f4b3267e8582",
              "IPY_MODEL_78404a81b4ca44e69540361aaf47bb65",
              "IPY_MODEL_6b80bc432d0242eda83f6e1358f09f92"
            ],
            "layout": "IPY_MODEL_01ed13a030a94ceea5d715fccf8c767c"
          }
        },
        "7644b5a53e414fe89c43f4b3267e8582": {
          "model_module": "@jupyter-widgets/controls",
          "model_name": "HTMLModel",
          "model_module_version": "1.5.0",
          "state": {
            "_dom_classes": [],
            "_model_module": "@jupyter-widgets/controls",
            "_model_module_version": "1.5.0",
            "_model_name": "HTMLModel",
            "_view_count": null,
            "_view_module": "@jupyter-widgets/controls",
            "_view_module_version": "1.5.0",
            "_view_name": "HTMLView",
            "description": "",
            "description_tooltip": null,
            "layout": "IPY_MODEL_7fd1134e03924d53b64cfdf5acf21c30",
            "placeholder": "​",
            "style": "IPY_MODEL_7facc8561c58479e8b8a3a2f37ad4ed9",
            "value": "Downloading: 100%"
          }
        },
        "78404a81b4ca44e69540361aaf47bb65": {
          "model_module": "@jupyter-widgets/controls",
          "model_name": "FloatProgressModel",
          "model_module_version": "1.5.0",
          "state": {
            "_dom_classes": [],
            "_model_module": "@jupyter-widgets/controls",
            "_model_module_version": "1.5.0",
            "_model_name": "FloatProgressModel",
            "_view_count": null,
            "_view_module": "@jupyter-widgets/controls",
            "_view_module_version": "1.5.0",
            "_view_name": "ProgressView",
            "bar_style": "success",
            "description": "",
            "description_tooltip": null,
            "layout": "IPY_MODEL_a3fb5baa687544d08dbe77ff5a67a28b",
            "max": 1520013706,
            "min": 0,
            "orientation": "horizontal",
            "style": "IPY_MODEL_1d0d5ed94be34d2ea3115072a96aa0f0",
            "value": 1520013706
          }
        },
        "6b80bc432d0242eda83f6e1358f09f92": {
          "model_module": "@jupyter-widgets/controls",
          "model_name": "HTMLModel",
          "model_module_version": "1.5.0",
          "state": {
            "_dom_classes": [],
            "_model_module": "@jupyter-widgets/controls",
            "_model_module_version": "1.5.0",
            "_model_name": "HTMLModel",
            "_view_count": null,
            "_view_module": "@jupyter-widgets/controls",
            "_view_module_version": "1.5.0",
            "_view_name": "HTMLView",
            "description": "",
            "description_tooltip": null,
            "layout": "IPY_MODEL_f4970682e0bc449b9e926c7b8787ab91",
            "placeholder": "​",
            "style": "IPY_MODEL_610e39da345544d49345ef850fecaeb0",
            "value": " 1.52G/1.52G [00:29&lt;00:00, 63.7MB/s]"
          }
        },
        "01ed13a030a94ceea5d715fccf8c767c": {
          "model_module": "@jupyter-widgets/base",
          "model_name": "LayoutModel",
          "model_module_version": "1.2.0",
          "state": {
            "_model_module": "@jupyter-widgets/base",
            "_model_module_version": "1.2.0",
            "_model_name": "LayoutModel",
            "_view_count": null,
            "_view_module": "@jupyter-widgets/base",
            "_view_module_version": "1.2.0",
            "_view_name": "LayoutView",
            "align_content": null,
            "align_items": null,
            "align_self": null,
            "border": null,
            "bottom": null,
            "display": null,
            "flex": null,
            "flex_flow": null,
            "grid_area": null,
            "grid_auto_columns": null,
            "grid_auto_flow": null,
            "grid_auto_rows": null,
            "grid_column": null,
            "grid_gap": null,
            "grid_row": null,
            "grid_template_areas": null,
            "grid_template_columns": null,
            "grid_template_rows": null,
            "height": null,
            "justify_content": null,
            "justify_items": null,
            "left": null,
            "margin": null,
            "max_height": null,
            "max_width": null,
            "min_height": null,
            "min_width": null,
            "object_fit": null,
            "object_position": null,
            "order": null,
            "overflow": null,
            "overflow_x": null,
            "overflow_y": null,
            "padding": null,
            "right": null,
            "top": null,
            "visibility": null,
            "width": null
          }
        },
        "7fd1134e03924d53b64cfdf5acf21c30": {
          "model_module": "@jupyter-widgets/base",
          "model_name": "LayoutModel",
          "model_module_version": "1.2.0",
          "state": {
            "_model_module": "@jupyter-widgets/base",
            "_model_module_version": "1.2.0",
            "_model_name": "LayoutModel",
            "_view_count": null,
            "_view_module": "@jupyter-widgets/base",
            "_view_module_version": "1.2.0",
            "_view_name": "LayoutView",
            "align_content": null,
            "align_items": null,
            "align_self": null,
            "border": null,
            "bottom": null,
            "display": null,
            "flex": null,
            "flex_flow": null,
            "grid_area": null,
            "grid_auto_columns": null,
            "grid_auto_flow": null,
            "grid_auto_rows": null,
            "grid_column": null,
            "grid_gap": null,
            "grid_row": null,
            "grid_template_areas": null,
            "grid_template_columns": null,
            "grid_template_rows": null,
            "height": null,
            "justify_content": null,
            "justify_items": null,
            "left": null,
            "margin": null,
            "max_height": null,
            "max_width": null,
            "min_height": null,
            "min_width": null,
            "object_fit": null,
            "object_position": null,
            "order": null,
            "overflow": null,
            "overflow_x": null,
            "overflow_y": null,
            "padding": null,
            "right": null,
            "top": null,
            "visibility": null,
            "width": null
          }
        },
        "7facc8561c58479e8b8a3a2f37ad4ed9": {
          "model_module": "@jupyter-widgets/controls",
          "model_name": "DescriptionStyleModel",
          "model_module_version": "1.5.0",
          "state": {
            "_model_module": "@jupyter-widgets/controls",
            "_model_module_version": "1.5.0",
            "_model_name": "DescriptionStyleModel",
            "_view_count": null,
            "_view_module": "@jupyter-widgets/base",
            "_view_module_version": "1.2.0",
            "_view_name": "StyleView",
            "description_width": ""
          }
        },
        "a3fb5baa687544d08dbe77ff5a67a28b": {
          "model_module": "@jupyter-widgets/base",
          "model_name": "LayoutModel",
          "model_module_version": "1.2.0",
          "state": {
            "_model_module": "@jupyter-widgets/base",
            "_model_module_version": "1.2.0",
            "_model_name": "LayoutModel",
            "_view_count": null,
            "_view_module": "@jupyter-widgets/base",
            "_view_module_version": "1.2.0",
            "_view_name": "LayoutView",
            "align_content": null,
            "align_items": null,
            "align_self": null,
            "border": null,
            "bottom": null,
            "display": null,
            "flex": null,
            "flex_flow": null,
            "grid_area": null,
            "grid_auto_columns": null,
            "grid_auto_flow": null,
            "grid_auto_rows": null,
            "grid_column": null,
            "grid_gap": null,
            "grid_row": null,
            "grid_template_areas": null,
            "grid_template_columns": null,
            "grid_template_rows": null,
            "height": null,
            "justify_content": null,
            "justify_items": null,
            "left": null,
            "margin": null,
            "max_height": null,
            "max_width": null,
            "min_height": null,
            "min_width": null,
            "object_fit": null,
            "object_position": null,
            "order": null,
            "overflow": null,
            "overflow_x": null,
            "overflow_y": null,
            "padding": null,
            "right": null,
            "top": null,
            "visibility": null,
            "width": null
          }
        },
        "1d0d5ed94be34d2ea3115072a96aa0f0": {
          "model_module": "@jupyter-widgets/controls",
          "model_name": "ProgressStyleModel",
          "model_module_version": "1.5.0",
          "state": {
            "_model_module": "@jupyter-widgets/controls",
            "_model_module_version": "1.5.0",
            "_model_name": "ProgressStyleModel",
            "_view_count": null,
            "_view_module": "@jupyter-widgets/base",
            "_view_module_version": "1.2.0",
            "_view_name": "StyleView",
            "bar_color": null,
            "description_width": ""
          }
        },
        "f4970682e0bc449b9e926c7b8787ab91": {
          "model_module": "@jupyter-widgets/base",
          "model_name": "LayoutModel",
          "model_module_version": "1.2.0",
          "state": {
            "_model_module": "@jupyter-widgets/base",
            "_model_module_version": "1.2.0",
            "_model_name": "LayoutModel",
            "_view_count": null,
            "_view_module": "@jupyter-widgets/base",
            "_view_module_version": "1.2.0",
            "_view_name": "LayoutView",
            "align_content": null,
            "align_items": null,
            "align_self": null,
            "border": null,
            "bottom": null,
            "display": null,
            "flex": null,
            "flex_flow": null,
            "grid_area": null,
            "grid_auto_columns": null,
            "grid_auto_flow": null,
            "grid_auto_rows": null,
            "grid_column": null,
            "grid_gap": null,
            "grid_row": null,
            "grid_template_areas": null,
            "grid_template_columns": null,
            "grid_template_rows": null,
            "height": null,
            "justify_content": null,
            "justify_items": null,
            "left": null,
            "margin": null,
            "max_height": null,
            "max_width": null,
            "min_height": null,
            "min_width": null,
            "object_fit": null,
            "object_position": null,
            "order": null,
            "overflow": null,
            "overflow_x": null,
            "overflow_y": null,
            "padding": null,
            "right": null,
            "top": null,
            "visibility": null,
            "width": null
          }
        },
        "610e39da345544d49345ef850fecaeb0": {
          "model_module": "@jupyter-widgets/controls",
          "model_name": "DescriptionStyleModel",
          "model_module_version": "1.5.0",
          "state": {
            "_model_module": "@jupyter-widgets/controls",
            "_model_module_version": "1.5.0",
            "_model_name": "DescriptionStyleModel",
            "_view_count": null,
            "_view_module": "@jupyter-widgets/base",
            "_view_module_version": "1.2.0",
            "_view_name": "StyleView",
            "description_width": ""
          }
        },
        "bb77c9353706426fb0495532df749b45": {
          "model_module": "@jupyter-widgets/controls",
          "model_name": "HBoxModel",
          "model_module_version": "1.5.0",
          "state": {
            "_dom_classes": [],
            "_model_module": "@jupyter-widgets/controls",
            "_model_module_version": "1.5.0",
            "_model_name": "HBoxModel",
            "_view_count": null,
            "_view_module": "@jupyter-widgets/controls",
            "_view_module_version": "1.5.0",
            "_view_name": "HBoxView",
            "box_style": "",
            "children": [
              "IPY_MODEL_f0f7f346163848efa78f61840cfd88b3",
              "IPY_MODEL_dad4c427a744463baf2ba37d61297041",
              "IPY_MODEL_b9bf1d4599e443f7963ee73220817df7"
            ],
            "layout": "IPY_MODEL_ad8a9e50b2dc4bdd9dc32c5f1d469dd2"
          }
        },
        "f0f7f346163848efa78f61840cfd88b3": {
          "model_module": "@jupyter-widgets/controls",
          "model_name": "HTMLModel",
          "model_module_version": "1.5.0",
          "state": {
            "_dom_classes": [],
            "_model_module": "@jupyter-widgets/controls",
            "_model_module_version": "1.5.0",
            "_model_name": "HTMLModel",
            "_view_count": null,
            "_view_module": "@jupyter-widgets/controls",
            "_view_module_version": "1.5.0",
            "_view_name": "HTMLView",
            "description": "",
            "description_tooltip": null,
            "layout": "IPY_MODEL_7ad012b57eb442dbbeb542795d9ac216",
            "placeholder": "​",
            "style": "IPY_MODEL_9d6fb609fecf4667a982d9f4aa9cdafd",
            "value": "Downloading: 100%"
          }
        },
        "dad4c427a744463baf2ba37d61297041": {
          "model_module": "@jupyter-widgets/controls",
          "model_name": "FloatProgressModel",
          "model_module_version": "1.5.0",
          "state": {
            "_dom_classes": [],
            "_model_module": "@jupyter-widgets/controls",
            "_model_module_version": "1.5.0",
            "_model_name": "FloatProgressModel",
            "_view_count": null,
            "_view_module": "@jupyter-widgets/controls",
            "_view_module_version": "1.5.0",
            "_view_name": "ProgressView",
            "bar_style": "success",
            "description": "",
            "description_tooltip": null,
            "layout": "IPY_MODEL_01e272d52a164bd68201b6c2d21ec5d4",
            "max": 1042301,
            "min": 0,
            "orientation": "horizontal",
            "style": "IPY_MODEL_2fc5619ea21a4f45b5579f0a4e09396d",
            "value": 1042301
          }
        },
        "b9bf1d4599e443f7963ee73220817df7": {
          "model_module": "@jupyter-widgets/controls",
          "model_name": "HTMLModel",
          "model_module_version": "1.5.0",
          "state": {
            "_dom_classes": [],
            "_model_module": "@jupyter-widgets/controls",
            "_model_module_version": "1.5.0",
            "_model_name": "HTMLModel",
            "_view_count": null,
            "_view_module": "@jupyter-widgets/controls",
            "_view_module_version": "1.5.0",
            "_view_name": "HTMLView",
            "description": "",
            "description_tooltip": null,
            "layout": "IPY_MODEL_d46eccc4163b4f43b8f92037ddf8a01f",
            "placeholder": "​",
            "style": "IPY_MODEL_d9584d2377a84f73a85c56289949bb9a",
            "value": " 1.04M/1.04M [00:01&lt;00:00, 1.01MB/s]"
          }
        },
        "ad8a9e50b2dc4bdd9dc32c5f1d469dd2": {
          "model_module": "@jupyter-widgets/base",
          "model_name": "LayoutModel",
          "model_module_version": "1.2.0",
          "state": {
            "_model_module": "@jupyter-widgets/base",
            "_model_module_version": "1.2.0",
            "_model_name": "LayoutModel",
            "_view_count": null,
            "_view_module": "@jupyter-widgets/base",
            "_view_module_version": "1.2.0",
            "_view_name": "LayoutView",
            "align_content": null,
            "align_items": null,
            "align_self": null,
            "border": null,
            "bottom": null,
            "display": null,
            "flex": null,
            "flex_flow": null,
            "grid_area": null,
            "grid_auto_columns": null,
            "grid_auto_flow": null,
            "grid_auto_rows": null,
            "grid_column": null,
            "grid_gap": null,
            "grid_row": null,
            "grid_template_areas": null,
            "grid_template_columns": null,
            "grid_template_rows": null,
            "height": null,
            "justify_content": null,
            "justify_items": null,
            "left": null,
            "margin": null,
            "max_height": null,
            "max_width": null,
            "min_height": null,
            "min_width": null,
            "object_fit": null,
            "object_position": null,
            "order": null,
            "overflow": null,
            "overflow_x": null,
            "overflow_y": null,
            "padding": null,
            "right": null,
            "top": null,
            "visibility": null,
            "width": null
          }
        },
        "7ad012b57eb442dbbeb542795d9ac216": {
          "model_module": "@jupyter-widgets/base",
          "model_name": "LayoutModel",
          "model_module_version": "1.2.0",
          "state": {
            "_model_module": "@jupyter-widgets/base",
            "_model_module_version": "1.2.0",
            "_model_name": "LayoutModel",
            "_view_count": null,
            "_view_module": "@jupyter-widgets/base",
            "_view_module_version": "1.2.0",
            "_view_name": "LayoutView",
            "align_content": null,
            "align_items": null,
            "align_self": null,
            "border": null,
            "bottom": null,
            "display": null,
            "flex": null,
            "flex_flow": null,
            "grid_area": null,
            "grid_auto_columns": null,
            "grid_auto_flow": null,
            "grid_auto_rows": null,
            "grid_column": null,
            "grid_gap": null,
            "grid_row": null,
            "grid_template_areas": null,
            "grid_template_columns": null,
            "grid_template_rows": null,
            "height": null,
            "justify_content": null,
            "justify_items": null,
            "left": null,
            "margin": null,
            "max_height": null,
            "max_width": null,
            "min_height": null,
            "min_width": null,
            "object_fit": null,
            "object_position": null,
            "order": null,
            "overflow": null,
            "overflow_x": null,
            "overflow_y": null,
            "padding": null,
            "right": null,
            "top": null,
            "visibility": null,
            "width": null
          }
        },
        "9d6fb609fecf4667a982d9f4aa9cdafd": {
          "model_module": "@jupyter-widgets/controls",
          "model_name": "DescriptionStyleModel",
          "model_module_version": "1.5.0",
          "state": {
            "_model_module": "@jupyter-widgets/controls",
            "_model_module_version": "1.5.0",
            "_model_name": "DescriptionStyleModel",
            "_view_count": null,
            "_view_module": "@jupyter-widgets/base",
            "_view_module_version": "1.2.0",
            "_view_name": "StyleView",
            "description_width": ""
          }
        },
        "01e272d52a164bd68201b6c2d21ec5d4": {
          "model_module": "@jupyter-widgets/base",
          "model_name": "LayoutModel",
          "model_module_version": "1.2.0",
          "state": {
            "_model_module": "@jupyter-widgets/base",
            "_model_module_version": "1.2.0",
            "_model_name": "LayoutModel",
            "_view_count": null,
            "_view_module": "@jupyter-widgets/base",
            "_view_module_version": "1.2.0",
            "_view_name": "LayoutView",
            "align_content": null,
            "align_items": null,
            "align_self": null,
            "border": null,
            "bottom": null,
            "display": null,
            "flex": null,
            "flex_flow": null,
            "grid_area": null,
            "grid_auto_columns": null,
            "grid_auto_flow": null,
            "grid_auto_rows": null,
            "grid_column": null,
            "grid_gap": null,
            "grid_row": null,
            "grid_template_areas": null,
            "grid_template_columns": null,
            "grid_template_rows": null,
            "height": null,
            "justify_content": null,
            "justify_items": null,
            "left": null,
            "margin": null,
            "max_height": null,
            "max_width": null,
            "min_height": null,
            "min_width": null,
            "object_fit": null,
            "object_position": null,
            "order": null,
            "overflow": null,
            "overflow_x": null,
            "overflow_y": null,
            "padding": null,
            "right": null,
            "top": null,
            "visibility": null,
            "width": null
          }
        },
        "2fc5619ea21a4f45b5579f0a4e09396d": {
          "model_module": "@jupyter-widgets/controls",
          "model_name": "ProgressStyleModel",
          "model_module_version": "1.5.0",
          "state": {
            "_model_module": "@jupyter-widgets/controls",
            "_model_module_version": "1.5.0",
            "_model_name": "ProgressStyleModel",
            "_view_count": null,
            "_view_module": "@jupyter-widgets/base",
            "_view_module_version": "1.2.0",
            "_view_name": "StyleView",
            "bar_color": null,
            "description_width": ""
          }
        },
        "d46eccc4163b4f43b8f92037ddf8a01f": {
          "model_module": "@jupyter-widgets/base",
          "model_name": "LayoutModel",
          "model_module_version": "1.2.0",
          "state": {
            "_model_module": "@jupyter-widgets/base",
            "_model_module_version": "1.2.0",
            "_model_name": "LayoutModel",
            "_view_count": null,
            "_view_module": "@jupyter-widgets/base",
            "_view_module_version": "1.2.0",
            "_view_name": "LayoutView",
            "align_content": null,
            "align_items": null,
            "align_self": null,
            "border": null,
            "bottom": null,
            "display": null,
            "flex": null,
            "flex_flow": null,
            "grid_area": null,
            "grid_auto_columns": null,
            "grid_auto_flow": null,
            "grid_auto_rows": null,
            "grid_column": null,
            "grid_gap": null,
            "grid_row": null,
            "grid_template_areas": null,
            "grid_template_columns": null,
            "grid_template_rows": null,
            "height": null,
            "justify_content": null,
            "justify_items": null,
            "left": null,
            "margin": null,
            "max_height": null,
            "max_width": null,
            "min_height": null,
            "min_width": null,
            "object_fit": null,
            "object_position": null,
            "order": null,
            "overflow": null,
            "overflow_x": null,
            "overflow_y": null,
            "padding": null,
            "right": null,
            "top": null,
            "visibility": null,
            "width": null
          }
        },
        "d9584d2377a84f73a85c56289949bb9a": {
          "model_module": "@jupyter-widgets/controls",
          "model_name": "DescriptionStyleModel",
          "model_module_version": "1.5.0",
          "state": {
            "_model_module": "@jupyter-widgets/controls",
            "_model_module_version": "1.5.0",
            "_model_name": "DescriptionStyleModel",
            "_view_count": null,
            "_view_module": "@jupyter-widgets/base",
            "_view_module_version": "1.2.0",
            "_view_name": "StyleView",
            "description_width": ""
          }
        },
        "ead0584b8d4e4c968d2f3770ff63946d": {
          "model_module": "@jupyter-widgets/controls",
          "model_name": "HBoxModel",
          "model_module_version": "1.5.0",
          "state": {
            "_dom_classes": [],
            "_model_module": "@jupyter-widgets/controls",
            "_model_module_version": "1.5.0",
            "_model_name": "HBoxModel",
            "_view_count": null,
            "_view_module": "@jupyter-widgets/controls",
            "_view_module_version": "1.5.0",
            "_view_name": "HBoxView",
            "box_style": "",
            "children": [
              "IPY_MODEL_8de2e9e1d7644609a8d935e47c219bba",
              "IPY_MODEL_daff4ea6211b4d73949b09983c2363ab",
              "IPY_MODEL_2beb1d5ecbea4b3b81bf2918a587b017"
            ],
            "layout": "IPY_MODEL_314454143ea040a883fb4face80b1a85"
          }
        },
        "8de2e9e1d7644609a8d935e47c219bba": {
          "model_module": "@jupyter-widgets/controls",
          "model_name": "HTMLModel",
          "model_module_version": "1.5.0",
          "state": {
            "_dom_classes": [],
            "_model_module": "@jupyter-widgets/controls",
            "_model_module_version": "1.5.0",
            "_model_name": "HTMLModel",
            "_view_count": null,
            "_view_module": "@jupyter-widgets/controls",
            "_view_module_version": "1.5.0",
            "_view_name": "HTMLView",
            "description": "",
            "description_tooltip": null,
            "layout": "IPY_MODEL_fcb792db981a424d8d44ae7df0f557b3",
            "placeholder": "​",
            "style": "IPY_MODEL_ec1c10af620b470aa5166017ccd35220",
            "value": "Downloading: 100%"
          }
        },
        "daff4ea6211b4d73949b09983c2363ab": {
          "model_module": "@jupyter-widgets/controls",
          "model_name": "FloatProgressModel",
          "model_module_version": "1.5.0",
          "state": {
            "_dom_classes": [],
            "_model_module": "@jupyter-widgets/controls",
            "_model_module_version": "1.5.0",
            "_model_name": "FloatProgressModel",
            "_view_count": null,
            "_view_module": "@jupyter-widgets/controls",
            "_view_module_version": "1.5.0",
            "_view_name": "ProgressView",
            "bar_style": "success",
            "description": "",
            "description_tooltip": null,
            "layout": "IPY_MODEL_4a6576747fe14fe58e9c1bc4b62e08a9",
            "max": 456318,
            "min": 0,
            "orientation": "horizontal",
            "style": "IPY_MODEL_121a7fc8671642b786d2a69fc310c10a",
            "value": 456318
          }
        },
        "2beb1d5ecbea4b3b81bf2918a587b017": {
          "model_module": "@jupyter-widgets/controls",
          "model_name": "HTMLModel",
          "model_module_version": "1.5.0",
          "state": {
            "_dom_classes": [],
            "_model_module": "@jupyter-widgets/controls",
            "_model_module_version": "1.5.0",
            "_model_name": "HTMLModel",
            "_view_count": null,
            "_view_module": "@jupyter-widgets/controls",
            "_view_module_version": "1.5.0",
            "_view_name": "HTMLView",
            "description": "",
            "description_tooltip": null,
            "layout": "IPY_MODEL_25c85a021c594083a2a094b388dc655c",
            "placeholder": "​",
            "style": "IPY_MODEL_1956c439a5fc4de7abcb070ac9367f86",
            "value": " 456k/456k [00:00&lt;00:00, 407kB/s]"
          }
        },
        "314454143ea040a883fb4face80b1a85": {
          "model_module": "@jupyter-widgets/base",
          "model_name": "LayoutModel",
          "model_module_version": "1.2.0",
          "state": {
            "_model_module": "@jupyter-widgets/base",
            "_model_module_version": "1.2.0",
            "_model_name": "LayoutModel",
            "_view_count": null,
            "_view_module": "@jupyter-widgets/base",
            "_view_module_version": "1.2.0",
            "_view_name": "LayoutView",
            "align_content": null,
            "align_items": null,
            "align_self": null,
            "border": null,
            "bottom": null,
            "display": null,
            "flex": null,
            "flex_flow": null,
            "grid_area": null,
            "grid_auto_columns": null,
            "grid_auto_flow": null,
            "grid_auto_rows": null,
            "grid_column": null,
            "grid_gap": null,
            "grid_row": null,
            "grid_template_areas": null,
            "grid_template_columns": null,
            "grid_template_rows": null,
            "height": null,
            "justify_content": null,
            "justify_items": null,
            "left": null,
            "margin": null,
            "max_height": null,
            "max_width": null,
            "min_height": null,
            "min_width": null,
            "object_fit": null,
            "object_position": null,
            "order": null,
            "overflow": null,
            "overflow_x": null,
            "overflow_y": null,
            "padding": null,
            "right": null,
            "top": null,
            "visibility": null,
            "width": null
          }
        },
        "fcb792db981a424d8d44ae7df0f557b3": {
          "model_module": "@jupyter-widgets/base",
          "model_name": "LayoutModel",
          "model_module_version": "1.2.0",
          "state": {
            "_model_module": "@jupyter-widgets/base",
            "_model_module_version": "1.2.0",
            "_model_name": "LayoutModel",
            "_view_count": null,
            "_view_module": "@jupyter-widgets/base",
            "_view_module_version": "1.2.0",
            "_view_name": "LayoutView",
            "align_content": null,
            "align_items": null,
            "align_self": null,
            "border": null,
            "bottom": null,
            "display": null,
            "flex": null,
            "flex_flow": null,
            "grid_area": null,
            "grid_auto_columns": null,
            "grid_auto_flow": null,
            "grid_auto_rows": null,
            "grid_column": null,
            "grid_gap": null,
            "grid_row": null,
            "grid_template_areas": null,
            "grid_template_columns": null,
            "grid_template_rows": null,
            "height": null,
            "justify_content": null,
            "justify_items": null,
            "left": null,
            "margin": null,
            "max_height": null,
            "max_width": null,
            "min_height": null,
            "min_width": null,
            "object_fit": null,
            "object_position": null,
            "order": null,
            "overflow": null,
            "overflow_x": null,
            "overflow_y": null,
            "padding": null,
            "right": null,
            "top": null,
            "visibility": null,
            "width": null
          }
        },
        "ec1c10af620b470aa5166017ccd35220": {
          "model_module": "@jupyter-widgets/controls",
          "model_name": "DescriptionStyleModel",
          "model_module_version": "1.5.0",
          "state": {
            "_model_module": "@jupyter-widgets/controls",
            "_model_module_version": "1.5.0",
            "_model_name": "DescriptionStyleModel",
            "_view_count": null,
            "_view_module": "@jupyter-widgets/base",
            "_view_module_version": "1.2.0",
            "_view_name": "StyleView",
            "description_width": ""
          }
        },
        "4a6576747fe14fe58e9c1bc4b62e08a9": {
          "model_module": "@jupyter-widgets/base",
          "model_name": "LayoutModel",
          "model_module_version": "1.2.0",
          "state": {
            "_model_module": "@jupyter-widgets/base",
            "_model_module_version": "1.2.0",
            "_model_name": "LayoutModel",
            "_view_count": null,
            "_view_module": "@jupyter-widgets/base",
            "_view_module_version": "1.2.0",
            "_view_name": "LayoutView",
            "align_content": null,
            "align_items": null,
            "align_self": null,
            "border": null,
            "bottom": null,
            "display": null,
            "flex": null,
            "flex_flow": null,
            "grid_area": null,
            "grid_auto_columns": null,
            "grid_auto_flow": null,
            "grid_auto_rows": null,
            "grid_column": null,
            "grid_gap": null,
            "grid_row": null,
            "grid_template_areas": null,
            "grid_template_columns": null,
            "grid_template_rows": null,
            "height": null,
            "justify_content": null,
            "justify_items": null,
            "left": null,
            "margin": null,
            "max_height": null,
            "max_width": null,
            "min_height": null,
            "min_width": null,
            "object_fit": null,
            "object_position": null,
            "order": null,
            "overflow": null,
            "overflow_x": null,
            "overflow_y": null,
            "padding": null,
            "right": null,
            "top": null,
            "visibility": null,
            "width": null
          }
        },
        "121a7fc8671642b786d2a69fc310c10a": {
          "model_module": "@jupyter-widgets/controls",
          "model_name": "ProgressStyleModel",
          "model_module_version": "1.5.0",
          "state": {
            "_model_module": "@jupyter-widgets/controls",
            "_model_module_version": "1.5.0",
            "_model_name": "ProgressStyleModel",
            "_view_count": null,
            "_view_module": "@jupyter-widgets/base",
            "_view_module_version": "1.2.0",
            "_view_name": "StyleView",
            "bar_color": null,
            "description_width": ""
          }
        },
        "25c85a021c594083a2a094b388dc655c": {
          "model_module": "@jupyter-widgets/base",
          "model_name": "LayoutModel",
          "model_module_version": "1.2.0",
          "state": {
            "_model_module": "@jupyter-widgets/base",
            "_model_module_version": "1.2.0",
            "_model_name": "LayoutModel",
            "_view_count": null,
            "_view_module": "@jupyter-widgets/base",
            "_view_module_version": "1.2.0",
            "_view_name": "LayoutView",
            "align_content": null,
            "align_items": null,
            "align_self": null,
            "border": null,
            "bottom": null,
            "display": null,
            "flex": null,
            "flex_flow": null,
            "grid_area": null,
            "grid_auto_columns": null,
            "grid_auto_flow": null,
            "grid_auto_rows": null,
            "grid_column": null,
            "grid_gap": null,
            "grid_row": null,
            "grid_template_areas": null,
            "grid_template_columns": null,
            "grid_template_rows": null,
            "height": null,
            "justify_content": null,
            "justify_items": null,
            "left": null,
            "margin": null,
            "max_height": null,
            "max_width": null,
            "min_height": null,
            "min_width": null,
            "object_fit": null,
            "object_position": null,
            "order": null,
            "overflow": null,
            "overflow_x": null,
            "overflow_y": null,
            "padding": null,
            "right": null,
            "top": null,
            "visibility": null,
            "width": null
          }
        },
        "1956c439a5fc4de7abcb070ac9367f86": {
          "model_module": "@jupyter-widgets/controls",
          "model_name": "DescriptionStyleModel",
          "model_module_version": "1.5.0",
          "state": {
            "_model_module": "@jupyter-widgets/controls",
            "_model_module_version": "1.5.0",
            "_model_name": "DescriptionStyleModel",
            "_view_count": null,
            "_view_module": "@jupyter-widgets/base",
            "_view_module_version": "1.2.0",
            "_view_name": "StyleView",
            "description_width": ""
          }
        }
      }
    }
  },
  "nbformat": 4,
  "nbformat_minor": 0
}
